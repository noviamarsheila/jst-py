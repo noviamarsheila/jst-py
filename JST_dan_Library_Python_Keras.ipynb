{
  "nbformat": 4,
  "nbformat_minor": 0,
  "metadata": {
    "colab": {
      "provenance": [],
      "include_colab_link": true
    },
    "kernelspec": {
      "name": "python3",
      "display_name": "Python 3"
    },
    "language_info": {
      "name": "python"
    }
  },
  "cells": [
    {
      "cell_type": "markdown",
      "metadata": {
        "id": "view-in-github",
        "colab_type": "text"
      },
      "source": [
        "<a href=\"https://colab.research.google.com/github/noviamarsheila/jst-py/blob/main/JST_dan_Library_Python_Keras.ipynb\" target=\"_parent\"><img src=\"https://colab.research.google.com/assets/colab-badge.svg\" alt=\"Open In Colab\"/></a>"
      ]
    },
    {
      "cell_type": "markdown",
      "source": [
        "JARINGAN SYARAF TIRUAN"
      ],
      "metadata": {
        "id": "vQrc5S_DIN0Z"
      }
    },
    {
      "cell_type": "code",
      "execution_count": null,
      "metadata": {
        "id": "KyHiYw7Yoj_a",
        "colab": {
          "base_uri": "https://localhost:8080/",
          "height": 449
        },
        "outputId": "7b9e3f91-ffe4-44ef-f99e-af6585326e7a"
      },
      "outputs": [
        {
          "output_type": "display_data",
          "data": {
            "text/plain": [
              "<Figure size 640x480 with 1 Axes>"
            ],
            "image/png": "[encoded data removed]"
          },
          "metadata": {}
        }
      ],
      "source": [
        "# TRAINING JST PRECEPTRON DENGAN 2 INPUT DAN 1 OUTPUT\n",
        "import matplotlib.pyplot as plt\n",
        "import numpy as np\n",
        "\n",
        "x1 = np.array([1, 0])\n",
        "x2 = np.array([0, 1])\n",
        "t = np.array([0, 1])\n",
        "\n",
        "# Menentukan Learning rate\n",
        "alpha = 0.5\n",
        "\n",
        "# Inisialisasi bobot\n",
        "w1 = np.array([0.5])\n",
        "w2 = np.array([0.5])\n",
        "b = np.array([0.2])\n",
        "\n",
        "loss = []\n",
        "\n",
        "for epoh in range(5):\n",
        "    loss.append(0)\n",
        "    \n",
        "    for NoData in range(2):\n",
        "        # Menghitung Jumlah input terbobot\n",
        "        net = x1[NoData] * w1 + x2[NoData] * w2 + b\n",
        "        \n",
        "        # Menerapkan fungsi aktivitas untuk memperoleh output y\n",
        "        if net >= 0:\n",
        "            y = 1\n",
        "        else:\n",
        "            y = 0\n",
        "        \n",
        "        # Menghitung Error Propagasi\n",
        "        e = t[NoData] - y\n",
        "        \n",
        "        # Menghitung Perubahan Bobot\n",
        "        dw1 = e * alpha * x1[NoData]\n",
        "        dw2 = e * alpha * x2[NoData]\n",
        "        db = e * alpha\n",
        "        \n",
        "        # Memperbarui bobot\n",
        "        w1 = w1 + dw1\n",
        "        w2 = w2 + dw2\n",
        "        b = b + db\n",
        "        \n",
        "        loss[epoh] = loss[epoh] + np.abs(e)\n",
        "\n",
        "# Menampilkan Grafik Loss\n",
        "plt.plot(loss)\n",
        "plt.xlabel('Epoch')\n",
        "plt.ylabel('Loss')\n",
        "plt.show()\n"
      ]
    },
    {
      "cell_type": "markdown",
      "source": [
        "TRAINING JST PRECEPTRON DENGAN 2 INPUT DAN 1 OUTPUT\n",
        "\n",
        "Kode tersebut adalah implementasi sederhana dari algoritma perceptron untuk mempelajari fungsi logika AND dengan dua input.\n",
        "\n",
        "Pertama, kita menentukan input (x1 dan x2) yang berisi angka 0 dan 1, serta target (t) yang merupakan hasil yang diharapkan dari fungsi logika AND.\n",
        "\n",
        "Kemudian, kita mengatur learning rate (alpha) yang menentukan seberapa besar bobot akan diperbarui saat terjadi kesalahan dalam prediksi.\n",
        "\n",
        "Selanjutnya, kita menginisialisasi bobot (w1, w2, dan b) dengan nilai awal 0.5. Bobot ini akan diperbarui selama proses pembelajaran.\n",
        "\n",
        "Kemudian, kita melakukan looping untuk beberapa epoch (iterasi pembelajaran). Dalam setiap epoch, kita melakukan looping untuk setiap data input.\n",
        "\n",
        "Pada setiap data input, kita menghitung jumlah input terbobot dengan mengalikan setiap input dengan bobot yang sesuai dan menambahkan bias.\n",
        "\n",
        "Kemudian, kita menerapkan fungsi aktivasi yang sederhana (dalam kasus ini, fungsi step). Jika jumlah input terbobot lebih besar atau sama dengan 0, maka output diatur sebagai 1. Jika jumlah input terbobot kurang dari 0, maka output diatur sebagai 0.\n",
        "\n",
        "Setelah itu, kita menghitung error (selisih antara target dan output). Jika error tidak nol, artinya prediksi kita tidak sesuai dengan target yang diharapkan.\n",
        "\n",
        "Kemudian, kita menghitung perubahan bobot berdasarkan error, learning rate, dan input. Perubahan bobot ini akan digunakan untuk memperbarui bobot pada iterasi berikutnya.\n",
        "\n",
        "Selanjutnya, kita memperbarui bobot dengan menambahkan perubahan bobot yang dihitung sebelumnya.\n",
        "\n",
        "Selama proses pembelajaran, kita juga menghitung loss (error) pada setiap epoch. Loss dihitung sebagai jumlah kesalahan absolut dari setiap data. Diharapkan bahwa loss akan berkurang seiring dengan peningkatan pembelajaran.\n",
        "\n",
        "Terakhir, kita menampilkan grafik loss yang menunjukkan perubahan loss setiap epoch. Grafik ini membantu kita melihat bagaimana pembelajaran berlangsung.\n"
      ],
      "metadata": {
        "id": "4j63rrm3JtKG"
      }
    },
    {
      "cell_type": "code",
      "source": [
        "# TRAINING JST PRECEPTRON OUTPUT JAMAK\n",
        "import matplotlib.pyplot as plt\n",
        "import numpy as np\n",
        "\n",
        "# Fungsi Pembelajaran Peceptron\n",
        "def TrainingPerceptron(x, T):\n",
        "    JumlahData = x.shape[0]\n",
        "    JumlahVektorInput = x.shape[1]\n",
        "    JumlahVektorOutput = T.shape[1]\n",
        "\n",
        "    w = np.random.rand(JumlahVektorInput, JumlahVektorOutput) * 0.5\n",
        "    alpha = 0.5\n",
        "    loss = []\n",
        "\n",
        "    for epoh in range(1000):\n",
        "        loss.append(0)\n",
        "\n",
        "        for NData in range(JumlahData):\n",
        "            xi = x[NData:NData + 1, :]\n",
        "            net = np.matmul(xi, w)\n",
        "            y = 1 / (1 + np.exp(-net))\n",
        "            e = T[NData:NData + 1, :] - y\n",
        "            dw = alpha * np.matmul(xi.transpose(), e)\n",
        "            w = w + dw\n",
        "            loss[epoh] = loss[epoh] + np.sum(np.abs(e))\n",
        "\n",
        "    return w, loss\n",
        "\n",
        "# Fungsi Prediksi\n",
        "def Prediksi(xp, w):\n",
        "    net = np.matmul(xp, w)\n",
        "    yp = 1 / (1 + np.exp(-net))\n",
        "    return yp\n",
        "\n",
        "# Program Utama\n",
        "X = np.loadtxt(\"XJamak.csv\", delimiter=';')\n",
        "T = np.loadtxt(\"TJamak.csv\", delimiter=';')\n",
        "\n",
        "w, loss = TrainingPerceptron(X, T)\n",
        "\n",
        "plt.plot(loss)\n",
        "plt.xlabel('Epoch')\n",
        "plt.ylabel('Loss')\n",
        "plt.show()\n",
        "\n",
        "xp = np.array([[1, 0, 1, 1]])\n",
        "yp = Prediksi(xp, w)\n",
        "\n",
        "print(\"Hasil Prediksi \")\n",
        "print(yp)\n"
      ],
      "metadata": {
        "colab": {
          "base_uri": "https://localhost:8080/",
          "height": 484
        },
        "id": "XODvDYZJMMzl",
        "outputId": "e3530085-533f-4f48-f00c-f80b859b9c10"
      },
      "execution_count": null,
      "outputs": [
        {
          "output_type": "display_data",
          "data": {
            "text/plain": [
              "<Figure size 640x480 with 1 Axes>"
            ],
            "image/png": "[encoded data removed]"
          },
          "metadata": {}
        },
        {
          "output_type": "stream",
          "name": "stdout",
          "text": [
            "Hasil Prediksi \n",
            "[[0.00608384 0.9939215 ]]\n"
          ]
        }
      ]
    },
    {
      "cell_type": "markdown",
      "source": [
        "TRAINING JST PRECEPTRON OUTPUT JAMAK\n",
        "\n",
        "Kode tersebut adalah implementasi sederhana dari algoritma perceptron untuk pembelajaran dan prediksi menggunakan fungsi sigmoid.\n",
        "\n",
        "1. Import library: Kode pertama mengimpor library matplotlib.pyplot dan numpy. Library matplotlib.pyplot digunakan untuk membuat plot grafik, sedangkan numpy digunakan untuk operasi numerik.\n",
        "\n",
        "2. Fungsi Pembelajaran Perceptron: Fungsi TrainingPerceptron menerima input x (data input) dan T (data target) sebagai parameter. Di dalam fungsi ini, kita menginisialisasi bobot awal w secara acak, menentukan learning rate (alpha), dan membuat array kosong untuk menyimpan nilai loss. Kemudian, dilakukan looping sebanyak 1000 epoch. Di dalam setiap epoch, dilakukan looping untuk setiap data input (xi). Pada setiap iterasi, dilakukan perhitungan net (jumlah input terbobot), aktivasi menggunakan fungsi sigmoid, perhitungan error (e), perhitungan perubahan bobot (dw), dan memperbarui bobot w. Selain itu, dihitung juga nilai loss pada setiap epoch. Fungsi ini mengembalikan bobot yang telah dilatih dan nilai loss.\n",
        "\n",
        "3. Fungsi Prediksi: Fungsi Prediksi menerima input xp (data input yang ingin diprediksi) dan bobot w sebagai parameter. Di dalam fungsi ini, dilakukan perhitungan net, aktivasi menggunakan fungsi sigmoid, dan mengembalikan hasil prediksi (yp).\n",
        "\n",
        "4. Program Utama: Pada bagian ini, dilakukan loading data input (X) dan data target (T) dari file csv. Kemudian, dilakukan pemanggilan fungsi TrainingPerceptron untuk melatih perceptron dengan data input dan target. Hasil bobot dan loss disimpan dalam variabel w dan loss. Selanjutnya, dilakukan plotting grafik loss menggunakan matplotlib.pyplot. Setelah itu, dilakukan prediksi menggunakan fungsi Prediksi dengan data input (xp) dan bobot w, dan hasil prediksi ditampilkan.\n",
        "\n",
        "Kode tersebut dapat digunakan untuk melatih dan melakukan prediksi dengan perceptron menggunakan fungsi sigmoid. Data input dan target dapat diubah dengan memodifikasi file csv yang digunakan."
      ],
      "metadata": {
        "id": "Zxd-UUSsMfiv"
      }
    },
    {
      "cell_type": "markdown",
      "source": [
        "LIBRARY PYTHON KERAS"
      ],
      "metadata": {
        "id": "OlwU3km7-PP2"
      }
    },
    {
      "cell_type": "code",
      "source": [
        "# Sumber : https://machinelearningmastery.com/keras-functional-api-deep-learning/\n",
        "from tensorflow.keras.layers import Dense\n",
        "from tensorflow.keras.models import Sequential\n",
        "\n",
        "model = Sequential()\n",
        "model.add(Dense(10, input_dim=10, activation='relu'))\n",
        "model.add(Dense(20, activation='relu'))\n",
        "model.add(Dense(10, activation='relu'))"
      ],
      "metadata": {
        "id": "00tA3BSC-b37"
      },
      "execution_count": null,
      "outputs": []
    },
    {
      "cell_type": "markdown",
      "source": [
        "Kode tersebut merupakan contoh penggunaan Keras Functional API dalam deep learning menggunakan TensorFlow. \n",
        "1. Import modul dan kelas.\n",
        " Baris ini mengimpor modul Dense dan Sequential dari pustaka Keras di TensorFlow. Modul Keras menyediakan berbagai kelas dan fungsi untuk membangun model deep learning yang terdiri dari berbagai layer, termasuk layer dense, dan mengatur urutan layer-layer tersebut sesuai dengan kebutuhan.\n",
        "2. Membuat objek Sequential yang akan digunakan untuk membangun model. Sequential adalah jenis model yang memungkinkan penempatan lapisan secara berurutan satu per satu memastikan bahwa output dari lapisan sebelumnya dihubungkan dengan input dari lapisan selanjutnya secara otomatis, mudah dan intuitif.\n",
        "3. Menambahkan layer pertama ke dalam model. **Dense(10, input_dim=10, activation='relu')** menginisialisasi layer dense dengan 10 neuron, menggunakan input dengan dimensi 10, dan fungsi aktivasi ReLU. Argumen **input_dim=10** menunjukkan dimensi input yang diharapkan oleh layer ini. Layer input ini menerima input dengan dimensi 10.\n",
        "4. Menambahkan layer kedua ke dalam model. **Dense(20, activation='relu')** menginisialisasi layer dense dengan 20 neuron dan fungsi aktivasi ReLU. Layer ini tidak memerlukan argumen input_dim karena inputnya dihubungkan dengan output layer sebelumnya secara otomatis Karena model yang dibangun menggunakan objek Sequential. \n",
        "5. Menambahkan layer ketiga ke dalam model. Dense**(10, activation='relu')** menginisialisasi layer dense dengan 10 neuron dan fungsi aktivasi ReLU. Layer ini juga terhubung dengan output layer sebelumnya.\n",
        "\n",
        "Sehingga dapat disimpukan bahwa model terdiri dari tiga layer dense berturut-turut. Setiap layer dense memiliki neuron-neuron yang sepenuhnya terhubung dengan layer sebelumnya. Fungsi aktivasi ReLU digunakan pada setiap layer untuk memperkenalkan non-linearitas ke dalam model dan menghasilkan output yang aktif jika nilai inputnya positif. Layer pertama memiliki dimensi input yang ditentukan, sedangkan layer-layer selanjutnya secara otomatis menghubungkan input mereka dengan output layer sebelumnya.\n",
        "\n",
        "---\n",
        "\n"
      ],
      "metadata": {
        "id": "PdK1FjAdDfNE"
      }
    },
    {
      "cell_type": "code",
      "source": [
        "# Sumber : https://www.analyticsvidhya.com/blog/2021/07/understanding-sequential-vs-functional-api-in-keras/\n",
        "from tensorflow.keras.models import Model\n",
        "from tensorflow.keras.layers import Input, Dense\n",
        "\n",
        "# Building the neutral network\n",
        "# (Here we're using 2 hidden layers and one branched layer with 10neurons each)\n",
        "# define input layer\n",
        "input_layer = Input(shape=(3,), name='input_layer')\n",
        "# defining 2 hidden layers\n",
        "Layer_1 = Dense(10, activation='relu', name='Layer_1') (input_layer)\n",
        "Layer_2 = Dense(10, activation='relu', name='Layer_3') (Layer_1)\n",
        "# Defining output layer y1\n",
        "y1_output = Dense(1, activation='linear', name='y1_output')(Layer_2)\n",
        "# Defining branched layer\n",
        "Branched_layer = Dense(10, activation='relu', name='Branched_layer')(Layer_2)\n",
        "# Defining 2nd output layer y2\n",
        "y2_output = Dense(1, activation='linear', name='y2_output')(Branched_layer)\n",
        "# Defining the model by specifiying the input and output layers\n",
        "model = Model(inputs=input_layer, outputs=[y1_output, y2_output])"
      ],
      "metadata": {
        "id": "CDd4-rzVkOXf"
      },
      "execution_count": null,
      "outputs": []
    },
    {
      "cell_type": "markdown",
      "source": [
        "Kode tersebut digunakan untuk membangun sebuah jaringan neural menggunakan Keras Functional API. Berikut adalah penjelasan mengenai maksud dari setiap bagian kode:\n",
        "\n",
        "1. Impor modul dan kelas yang diperlukan:\n",
        "Kode ini mengimpor modul Model dan kelas Input serta Dense dari pustaka Keras di TensorFlow. Modul Model digunakan untuk membuat objek model, sementara kelas Input digunakan untuk mendefinisikan input layer, dan kelas Dense digunakan untuk membuat layer dense.\n",
        "\n",
        "2. Mendefinisikan input layer:\n",
        "Baris ini mendefinisikan input layer menggunakan kelas Input. Dalam contoh ini, input layer memiliki **shape=(3,)** yang menunjukkan bahwa input layer memiliki 3 fitur. Nama \"input_layer\" diberikan sebagai identifikasi untuk layer tersebut.\n",
        "\n",
        "3. Mendefinisikan hidden layers:\n",
        "Baris ini mendefinisikan dua hidden layers dalam jaringan neural. Setiap hidden layer menggunakan kelas Dense untuk membuat layer dense dengan 10 neuron. Fungsi aktivasi ReLU **(activation='relu')** diterapkan pada kedua hidden layers. Layer_1 dihubungkan dengan input_layer, sedangkan Layer_2 dihubungkan dengan Layer_1.\n",
        "\n",
        "4. Mendefinisikan output layer y1_output:\n",
        "Baris ini mendefinisikan output layer y1_output menggunakan kelas Dense. Output layer ini memiliki 1 neuron dan menggunakan fungsi aktivasi linear **(activation='linear')**. Output layer ini dihubungkan dengan Layer_2.\n",
        "\n",
        "5. Mendefinisikan branched layer:\n",
        "Baris ini mendefinisikan branched layer menggunakan kelas Dense. Branched layer ini juga memiliki 10 neuron dan menggunakan fungsi aktivasi ReLU. Layer ini dihubungkan dengan Layer_2.\n",
        "\n",
        "6. Mendefinisikan output layer y2_output:\n",
        "Baris ini mendefinisikan output layer y2_output menggunakan kelas Dense. Output layer ini juga memiliki 1 neuron dan menggunakan fungsi aktivasi linear. Output layer ini dihubungkan dengan Branched_layer.\n",
        "\n",
        "7. Mendefinisikan model:\n",
        "Baris ini menggabungkan semua layer yang telah didefinisikan sebelumnya menjadi sebuah model. Model ini diinisialisasi menggunakan kelas Model dengan menggunakan input layer (input_layer) sebagai input dan output layer y1_output dan y2_output sebagai output.\n",
        "\n",
        "Jadi, keseluruhan kode tersebut adalah untuk membangun sebuah jaringan neural dengan input layer 3 fitur, dua hidden layers dengan 10 neuron masing-masing, dan dua output layers. Output layer pertama (y1_output) terhubung langsung dengan hidden layer kedua (Layer_2), sementara output layer kedua (y2_output) terhubung dengan branched layer (Branched_layer) yang juga berasal dari hidden layer kedua."
      ],
      "metadata": {
        "id": "DEg1A0KYmyWf"
      }
    },
    {
      "cell_type": "code",
      "source": [
        "###############################################################\n",
        "# Menyiapkan data set\n",
        "# Input X dan Terget T\n",
        "#=============================================================\n",
        "import numpy as np\n",
        "X = np.array([\n",
        "    [0,0],\n",
        "    [0,1],\n",
        "    [1,0],\n",
        "    [1,1]\n",
        "    ])\n",
        "\n",
        "T = np.array([\n",
        "    [1],\n",
        "    [0],\n",
        "    [0],\n",
        "    [0]\n",
        "    ])"
      ],
      "metadata": {
        "id": "RfpgFQpcnxsq"
      },
      "execution_count": null,
      "outputs": []
    },
    {
      "cell_type": "markdown",
      "source": [
        "langkah-langkah untuk menyiapkan dataset sebagai berikut:\n",
        "\n",
        "1. Import library yang diperlukan:\n",
        "Pada bagian ini, modul NumPy diimpor menggunakan pernyataan **import numpy as np**. NumPy adalah library populer dalam pemrosesan numerik yang digunakan untuk manipulasi dan operasi pada array numerik.\n",
        "\n",
        "2. Membuat array input (X):\n",
        "Baris ini membuat array X yang berfungsi sebagai input dataset. Array X memiliki bentuk 2D dan mewakili sekumpulan data dengan fitur-fiturnya. Dalam contoh ini, terdapat empat baris data yang masing-masing memiliki dua fitur. Contohnya adalah sebagai berikut:\n",
        "[[0, 0],\n",
        " [0, 1],\n",
        " [1, 0],\n",
        " [1, 1]]\n",
        "\n",
        " Setiap baris dalam array ini merupakan satu data, dan setiap kolom pada baris tersebut merepresentasikan nilai dari fitur-fitur yang dimiliki.\n",
        "\n",
        "3. Membuat array target (T):\n",
        "Baris ini membuat array T yang merupakan target atau label yang sesuai dengan setiap data pada array X. Array T memiliki bentuk 2D dengan satu kolom, sesuai dengan jumlah data pada array X. Contohnya adalah sebagai berikut:\n",
        "[[1],\n",
        " [0],\n",
        " [0],\n",
        " [0]]\n",
        " \n",
        " Setiap baris dalam array ini merepresentasikan target yang sesuai dengan setiap data pada array X. Dalam contoh ini, target memiliki satu kolom karena hanya ada satu label yang diberikan untuk setiap data pada array X.\n",
        "\n",
        "Dengan demikian, kode ini digunakan untuk menyiapkan dataset dengan empat data input (X) dan empat target (T). Dataset ini nantinya akan digunakan dalam pelatihan model untuk melakukan tugas-tugas seperti klasifikasi atau regresi."
      ],
      "metadata": {
        "id": "Q7AHVTI2qALL"
      }
    },
    {
      "cell_type": "code",
      "source": [
        "###############################################################\n",
        "# Menyiapkan data set\n",
        "# Input X dan Terget T\n",
        "#=============================================================\n",
        "import numpy as np\n",
        "X = np.loadtxt(\"DatasetInput.csv\", delimiter=\",\")\n",
        "Y = np.loadtxt(\"DatasetOutput.csv\", delimiter=\",\")"
      ],
      "metadata": {
        "id": "d0yTglFn2IlX"
      },
      "execution_count": null,
      "outputs": []
    },
    {
      "cell_type": "markdown",
      "source": [
        "Langkah-langkah untuk menyiapkan dataset menggunakan file CSV sebagai sumber datanya sebagai berikut:\n",
        "1. Import library yang diperlukan:\n",
        "Pada bagian ini, modul NumPy diimpor menggunakan pernyataan import numpy as np. NumPy adalah library populer dalam pemrosesan numerik yang digunakan untuk manipulasi dan operasi pada array numerik.\n",
        "\n",
        "2. Membaca file input (X):\n",
        "Baris ini menggunakan fungsi np.loadtxt untuk membaca file CSV yang berisi input dataset. Fungsi np.loadtxt digunakan untuk membaca data dari file CSV ke dalam array NumPy. Pada contoh ini, file CSV yang berisi input dataset memiliki nama **\"DatasetInput.csv\"**. Argumen delimiter=\",\" digunakan untuk menyatakan bahwa koma (\",\") digunakan sebagai pemisah nilai dalam file CSV. Data dari file CSV kemudian dibaca dan disimpan dalam array X.\n",
        "\n",
        "3. Membaca file target (Y):\n",
        "Baris ini menggunakan fungsi np.loadtxt untuk membaca file CSV yang berisi target atau label dari dataset. File CSV dengan nama **\"DatasetOutput.csv\" **digunakan untuk menyimpan target. Seperti sebelumnya, argumen delimiter=\",\" digunakan untuk menunjukkan bahwa koma (\",\") digunakan sebagai pemisah nilai dalam file CSV. Data dari file CSV dibaca dan disimpan dalam array Y.\n",
        "\n",
        "Dengan demikian, kode ini digunakan untuk menyiapkan dataset dengan membaca data input dari file CSV \"DatasetInput.csv\" dan data target dari file CSV \"DatasetOutput.csv\". Data yang dibaca dari file CSV kemudian disimpan dalam array X untuk input dan Y untuk target. Dataset ini kemudian dapat digunakan dalam pelatihan model atau analisis data lainnya. Pastikan bahwa file CSV yang digunakan memiliki format yang sesuai dengan struktur yang diharapkan, yaitu dengan menggunakan koma (\",\") sebagai pemisah nilai."
      ],
      "metadata": {
        "id": "PE8lNIyT2P_k"
      }
    },
    {
      "cell_type": "code",
      "source": [
        "#Langkah 2 : mendefinisikan model JST\n",
        "model = Sequential()\n",
        "# Menambahkan layer dense ke model\n",
        "NNode = 1 # Jumlah Node.\n",
        "NInput = 2 # Jumlah vektor input\n",
        "model.add(Dense(NNode, input_dim=NInput, activation=\"sigmoid\", use_bias=True))"
      ],
      "metadata": {
        "id": "jCGi6N6PBoNR"
      },
      "execution_count": null,
      "outputs": []
    },
    {
      "cell_type": "markdown",
      "source": [
        "Langkah-langkah untuk mendefinisikan model Jaringan Saraf Tiruan (JST) :\n",
        "\n",
        "1. Mendefinisikan objek model:\n",
        "Baris ini membuat objek model menggunakan kelas Sequential dari Keras. Sequential adalah jenis model yang memungkinkan penempatan lapisan secara berurutan satu per satu.\n",
        "2. Menambahkan layer dense ke model:\n",
        "Baris ini menambahkan layer dense ke dalam model. Layer dense juga dikenal sebagai fully connected layer, di mana setiap neuron di layer ini terhubung dengan semua neuron di layer sebelumnya. Berikut adalah penjelasan dari argumen-argumen yang digunakan:\n",
        "  * NNode: Jumlah neuron (node) dalam layer dense. Dalam kasus ini, hanya satu \n",
        "neuron yang digunakan.\n",
        "  * input_dim: Dimensi input, yaitu jumlah fitur yang ada. Dalam kasus ini, input memiliki dua fitur.\n",
        "  * activation=\"sigmoid\": Fungsi aktivasi yang digunakan untuk setiap neuron di layer dense. Di sini, fungsi sigmoid digunakan sebagai fungsi aktivasi.\n",
        "  *use_bias=True: Parameter ini menentukan apakah layer dense menggunakan bias atau tidak. Dalam kasus ini, menggunakan bias.\n",
        "\n",
        "Dengan menggunakan kode di atas, model JST dengan satu layer dense telah didefinisikan. Layer dense ini memiliki satu neuron dengan fungsi aktivasi sigmoid. Jumlah input ke layer dense adalah dua (karena dua fitur), dan menggunakan bias. Model ini siap untuk dilatih dan diuji menggunakan data yang sesuai."
      ],
      "metadata": {
        "id": "Tjbh6Ei5CS_4"
      }
    },
    {
      "cell_type": "code",
      "source": [
        "#7.6 : Mengompile model untuk menggabungkan parameter training\n",
        "#3. mengcompile model\n",
        "#Parameter training\n",
        "#Fungsi loss = mse\n",
        "#Optimiser : SDG Stochastic Gradien Descent\n",
        "#metrics : accuracy\n",
        "model.compile(loss='mse', optimizer='SGD', metrics=['accuracy'])"
      ],
      "metadata": {
        "id": "CIuz32WLDQVs"
      },
      "execution_count": null,
      "outputs": []
    },
    {
      "cell_type": "markdown",
      "source": [
        "Kode tersebut mengompilasi model dengan menggunakan fungsi compile() pada objek model yang telah dibuat sebelumnya. Dalam metode compile(), Anda perlu menentukan beberapa parameter penting:\n",
        "\n",
        "  * loss='mse': Parameter ini menentukan fungsi loss yang digunakan untuk mengukur kesalahan prediksi model. Di sini, 'mse' merujuk pada Mean Squared Error (MSE), yang merupakan fungsi loss yang umum digunakan untuk masalah regresi.\n",
        "  * optimizer='SGD': Parameter ini menentukan algoritma optimisasi yang digunakan untuk memperbarui parameter model berdasarkan fungsi loss. 'SGD' merujuk pada Stochastic Gradient Descent (SGD), yang merupakan metode optimisasi yang umum digunakan dalam pelatihan model.\n",
        "  * metrics=['accuracy']: Parameter ini menentukan metrik evaluasi yang ingin ditampilkan selama pelatihan model. Dalam kasus ini, 'accuracy' digunakan sebagai metrik evaluasi untuk mengukur akurasi model saat melatih.\n",
        "\n",
        "  Dengan menggunakan metode compile(), model dikonfigurasi dengan fungsi loss, optimisasi, dan metrik evaluasi yang sesuai. Model yang telah dikompilasi siap untuk dilatih pada data yang disiapkan sebelumnya."
      ],
      "metadata": {
        "id": "dT26X-HmDRTc"
      }
    },
    {
      "cell_type": "code",
      "source": [
        "#7.7 : Melakukan Training Model di ikuti prediksi\n",
        "import matplotlib.pyplot as plt\n",
        "\n",
        "#4. Training Model menggunakan 4000 epoh\n",
        "# X : Data Input\n",
        "# T : Target\n",
        "# epoh : Jumlah Iteasi = 4000\n",
        "# Melakukan training model dengan 4000 epoch\n",
        "history = model.fit(X, T, epochs=4000)\n",
        "\n",
        "# Menampilkan grafik loss\n",
        "plt.plot(history.history['loss'])\n",
        "\n",
        "# Melakukan prediksi\n",
        "yp = model.predict(X)\n",
        "\n",
        "# Mencetak hasil prediksi\n",
        "print(yp)"
      ],
      "metadata": {
        "colab": {
          "base_uri": "https://localhost:8080/",
          "height": 235
        },
        "id": "VAE_DC9lG8NS",
        "outputId": "af0db1f9-eda4-4c14-f191-44d640ed520d"
      },
      "execution_count": null,
      "outputs": [
        {
          "output_type": "error",
          "ename": "NameError",
          "evalue": "ignored",
          "traceback": [
            "\u001b[0;31m---------------------------------------------------------------------------\u001b[0m",
            "\u001b[0;31mNameError\u001b[0m                                 Traceback (most recent call last)",
            "\u001b[0;32m<ipython-input-2-0b4f6d7ac418>\u001b[0m in \u001b[0;36m<cell line: 9>\u001b[0;34m()\u001b[0m\n\u001b[1;32m      7\u001b[0m \u001b[0;31m# epoh : Jumlah Iteasi = 4000\u001b[0m\u001b[0;34m\u001b[0m\u001b[0;34m\u001b[0m\u001b[0m\n\u001b[1;32m      8\u001b[0m \u001b[0;31m# Melakukan training model dengan 4000 epoch\u001b[0m\u001b[0;34m\u001b[0m\u001b[0;34m\u001b[0m\u001b[0m\n\u001b[0;32m----> 9\u001b[0;31m \u001b[0mhistory\u001b[0m \u001b[0;34m=\u001b[0m \u001b[0mmodel\u001b[0m\u001b[0;34m.\u001b[0m\u001b[0mfit\u001b[0m\u001b[0;34m(\u001b[0m\u001b[0mX\u001b[0m\u001b[0;34m,\u001b[0m \u001b[0mT\u001b[0m\u001b[0;34m,\u001b[0m \u001b[0mepochs\u001b[0m\u001b[0;34m=\u001b[0m\u001b[0;36m4000\u001b[0m\u001b[0;34m)\u001b[0m\u001b[0;34m\u001b[0m\u001b[0;34m\u001b[0m\u001b[0m\n\u001b[0m\u001b[1;32m     10\u001b[0m \u001b[0;34m\u001b[0m\u001b[0m\n\u001b[1;32m     11\u001b[0m \u001b[0;31m# Menampilkan grafik loss\u001b[0m\u001b[0;34m\u001b[0m\u001b[0;34m\u001b[0m\u001b[0m\n",
            "\u001b[0;31mNameError\u001b[0m: name 'model' is not defined"
          ]
        }
      ]
    },
    {
      "cell_type": "markdown",
      "source": [
        "Langkah-langkah untuk melatih model dan melakukan prediksi dilakukan:\n",
        "\n",
        "1. Melakukan pelatihan model:\n",
        "Melatih model dengan menggunakan metode fit() pada objek model. X adalah input data yang digunakan untuk melatih model, dan T adalah target yang sesuai dengan input data tersebut. Argument epochs=4000 menentukan jumlah iterasi atau epoch yang digunakan dalam pelatihan. Selama pelatihan, model akan memperbarui parameter-nya berdasarkan fungsi loss yang ditentukan sebelumnya.\n",
        "\n",
        "2. Menampilkan grafik loss:\n",
        "Mengambil nilai loss dari objek history yang didapatkan dari pelatihan model dan memplotnya sebagai grafik. Grafik ini menunjukkan perubahan nilai loss seiring dengan jumlah epoch yang berlalu. Dengan memvisualisasikan grafik loss, Anda dapat melihat apakah model tersebut mengalami peningkatan atau penurunan performa selama pelatihan.\n",
        "\n",
        "3. Melakukan prediksi:\n",
        "Menggunakan model yang telah dilatih untuk melakukan prediksi terhadap data input X. Hasil prediksi disimpan dalam variabel yp.\n",
        "\n",
        "4. Mencetak hasil prediksi:\n",
        "Mencetak hasil prediksi yang telah dilakukan menggunakan model. Output ini berupa prediksi yang diberikan oleh model berdasarkan data input X.\n",
        "\n",
        "  Dengan menggunakan kode di atas, model dilatih dengan 4000 epoch, grafik loss ditampilkan untuk melihat perubahan nilai loss selama pelatihan, dan hasil prediksi dicetak untuk melihat prediksi model terhadap data input X."
      ],
      "metadata": {
        "id": "iKKetMAMHa_v"
      }
    },
    {
      "cell_type": "code",
      "source": [
        "#7.8\n",
        "#1\n",
        "import numpy as np \n",
        "from keras.models import Sequential\n",
        "from keras.layers import Dense\n",
        "import matplotlib.pyplot as plt\n",
        "\n",
        "#2\n",
        "X = np.array([\n",
        "    [0,0],\n",
        "    [0,1],\n",
        "    [1,0],\n",
        "    [1,1]\n",
        "])\n",
        "\n",
        "T = np.array([\n",
        "    [1],\n",
        "    [0],\n",
        "    [0],\n",
        "    [0]\n",
        "])\n",
        "\n",
        "#3\n",
        "model = Sequential()\n",
        "NNode = 1 \n",
        "NInput = 2\n",
        "model.add(Dense(NNode, input_dim=NInput, activation='sigmoid', use_bias=True))\n",
        "\n",
        "#4\n",
        "model.compile(loss='mse', optimizer='SGD', metrics=['accuracy'])\n",
        "\n",
        "#5\n",
        "His = model.fit(X, T, epochs=4000)\n",
        "#6\n",
        "plt.plot(His.history['loss'])\n",
        "\n",
        "#7\n",
        "yp = model.predict(X)\n",
        "print(yp)"
      ],
      "metadata": {
        "id": "Y1uMX3jqK_nv"
      },
      "execution_count": null,
      "outputs": []
    },
    {
      "cell_type": "markdown",
      "source": [
        "Kode diatas merupakan contoh penggunaan library Keras untuk membuat dan melatih Jaringan Saraf Tiruan (JST) dengan satu lapisan tersembunyi menggunakan fungsi aktivasi sigmoid.\n",
        "\n",
        "Langkah 1: Mengimpor library yang diperlukan\n",
        "\n",
        "\n",
        "Langkah 2: Menyiapkan data latih dan target\n",
        "\n",
        "Langkah 3: Membangun model JST menggunakan Keras Sequential API\n",
        "\n",
        "Kode di atas membuat objek model Sequential dan menambahkan satu lapisan Dense dengan satu node, input_dim sebanyak 2, fungsi aktivasi sigmoid, dan menggunakan bias.\n",
        "\n",
        "Langkah 4: Mengompilasi model\n",
        "\n",
        "Kode di atas mengompilasi model dengan menggunakan mean squared error (MSE) sebagai fungsi loss, stochastic gradient descent (SGD) sebagai optimizer, dan menghitung akurasi sebagai metrik.\n",
        "\n",
        "Langkah 5: Melatih model\n",
        "\n",
        "Kode di atas melatih model dengan memanggil metode fit pada objek model. Data latih X dan target T digunakan selama proses pelatihan, dengan jumlah epochs sebanyak 4000.\n",
        "\n",
        "Langkah 6: Menampilkan grafik loss\n",
        "\n",
        "Kode di atas menampilkan grafik perubahan loss (MSE) selama pelatihan menggunakan library matplotlib.\n",
        "\n",
        "Langkah 7: Memprediksi output dengan model\n",
        "\n",
        "Kode di atas menggunakan model yang telah dilatih untuk memprediksi output berdasarkan data latih X. Hasil prediksi disimpan dalam variabel yp dan dicetak ke layar.\n",
        "\n",
        "\n",
        "---\n",
        "\n",
        "\n",
        "\n",
        "Kode tersebut merupakan contoh sederhana penggunaan Keras untuk melatih JST dengan satu lapisan tersembunyi menggunakan fungsi aktivasi sigmoid. Anda dapat menyesuaikan jumlah node, jumlah input, fungsi aktivasi, optimizer, jumlah epochs, dan metrik sesuai dengan kebutuhan Anda."
      ],
      "metadata": {
        "id": "tolRhbsotEiQ"
      }
    },
    {
      "cell_type": "code",
      "source": [
        "#7.9\n",
        "import numpy as np \n",
        "from keras.models import Sequential\n",
        "from keras.layers import Dense\n",
        "import matplotlib.pyplot as plt\n",
        "\n",
        "X = np.array([\n",
        "    [0,0],\n",
        "    [0,1],\n",
        "    [1,0],\n",
        "    [1,1]\n",
        "])\n",
        "\n",
        "T = np.array([\n",
        "    [1],\n",
        "    [0],\n",
        "    [0],\n",
        "    [0]\n",
        "])\n",
        "\n",
        "model = Sequential()\n",
        "NOutput = 1\n",
        "NInput = 2\n",
        "\n",
        "model.add(Dense(1000, input_dim=NInput, activation='relu', use_bias=True))\n",
        "model.add(Dense(1000, activation='relu', use_bias=True))\n",
        "model.add(Dense(1000, activation='relu', use_bias=True))\n",
        "model.add(Dense(NOutput, activation='sigmoid', use_bias=True))\n",
        "\n",
        "model.compile(loss='mse', optimizer='SGD', metrics=['accuracy'])\n",
        "\n",
        "His = model.fit(X, T, epochs=4000)\n",
        "plt.plot(His.history['loss'])\n",
        "\n",
        "yp = model.predict(X)\n",
        "print(yp)"
      ],
      "metadata": {
        "id": "AJMY_fUdui25"
      },
      "execution_count": null,
      "outputs": []
    }
  ]
}